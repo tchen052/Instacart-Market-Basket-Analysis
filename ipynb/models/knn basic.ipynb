{
 "cells": [
  {
   "cell_type": "code",
   "execution_count": 2,
   "metadata": {},
   "outputs": [],
   "source": [
    "import pandas as pd\n",
    "import numpy as np\n",
    "import seaborn as sns\n",
    "from matplotlib import pyplot as plt\n",
    "%matplotlib inline\n",
    "\n",
    "plt.style.use('fivethirtyeight')\n",
    "plt.rcParams['figure.figsize'] = (10, 8)\n",
    "plt.rcParams['font.size'] = 14\n",
    "\n",
    "from sklearn.model_selection import train_test_split, cross_val_score\n",
    "from sklearn.metrics import roc_auc_score, roc_curve, auc, accuracy_score\n",
    "from sklearn.metrics import confusion_matrix, plot_confusion_matrix, classification_report, f1_score, brier_score_loss\n",
    "import scikitplot as skplt\n",
    "from sklearn.model_selection import RandomizedSearchCV\n",
    "from sklearn.neighbors import KNeighborsClassifier\n",
    "\n",
    "pd.set_option('display.float_format', lambda x: '%3f' % x)"
   ]
  },
  {
   "cell_type": "code",
   "execution_count": 3,
   "metadata": {},
   "outputs": [],
   "source": [
    "def plot_cm(y_true, y_pred):\n",
    "    \n",
    "    skplt.metrics.plot_confusion_matrix(\n",
    "        y_true, \n",
    "        y_pred,\n",
    "        figsize=(8,8))"
   ]
  },
  {
   "cell_type": "code",
   "execution_count": 4,
   "metadata": {},
   "outputs": [],
   "source": [
    "train = pd.read_csv('../../data/train.csv')\n",
    "test = pd.read_csv('../../data/test.csv')\n",
    "validate = pd.read_csv('../../data/validate.csv')"
   ]
  },
  {
   "cell_type": "code",
   "execution_count": 5,
   "metadata": {},
   "outputs": [],
   "source": [
    "train.drop('Unnamed: 0',axis=1,inplace=True)\n",
    "test.drop('Unnamed: 0',axis=1,inplace=True)\n",
    "validate.drop('Unnamed: 0',axis=1,inplace=True)"
   ]
  },
  {
   "cell_type": "code",
   "execution_count": 6,
   "metadata": {},
   "outputs": [],
   "source": [
    "X= train.drop([\"target\",'eval_set'],axis=1)\n",
    "y= train['target']"
   ]
  },
  {
   "cell_type": "code",
   "execution_count": 7,
   "metadata": {},
   "outputs": [],
   "source": [
    "X_train, X_test, y_train, y_test = (\n",
    "    train_test_split(X,y, test_size=0.2, random_state=42))"
   ]
  },
  {
   "cell_type": "code",
   "execution_count": 1,
   "metadata": {
    "scrolled": true
   },
   "outputs": [
    {
     "ename": "NameError",
     "evalue": "name 'X_train' is not defined",
     "output_type": "error",
     "traceback": [
      "\u001b[0;31m---------------------------------------------------------------------------\u001b[0m",
      "\u001b[0;31mNameError\u001b[0m                                 Traceback (most recent call last)",
      "\u001b[0;32m<ipython-input-1-72473169a3b2>\u001b[0m in \u001b[0;36m<module>\u001b[0;34m\u001b[0m\n\u001b[0;32m----> 1\u001b[0;31m \u001b[0mprint\u001b[0m\u001b[0;34m(\u001b[0m\u001b[0mX_train\u001b[0m\u001b[0;34m.\u001b[0m\u001b[0mshape\u001b[0m\u001b[0;34m)\u001b[0m\u001b[0;34m\u001b[0m\u001b[0;34m\u001b[0m\u001b[0m\n\u001b[0m\u001b[1;32m      2\u001b[0m \u001b[0mprint\u001b[0m\u001b[0;34m(\u001b[0m\u001b[0mX_test\u001b[0m\u001b[0;34m.\u001b[0m\u001b[0mshape\u001b[0m\u001b[0;34m)\u001b[0m\u001b[0;34m\u001b[0m\u001b[0;34m\u001b[0m\u001b[0m\n\u001b[1;32m      3\u001b[0m \u001b[0mprint\u001b[0m\u001b[0;34m(\u001b[0m\u001b[0my_train\u001b[0m\u001b[0;34m.\u001b[0m\u001b[0mshape\u001b[0m\u001b[0;34m)\u001b[0m\u001b[0;34m\u001b[0m\u001b[0;34m\u001b[0m\u001b[0m\n\u001b[1;32m      4\u001b[0m \u001b[0mprint\u001b[0m\u001b[0;34m(\u001b[0m\u001b[0my_test\u001b[0m\u001b[0;34m.\u001b[0m\u001b[0mshape\u001b[0m\u001b[0;34m)\u001b[0m\u001b[0;34m\u001b[0m\u001b[0;34m\u001b[0m\u001b[0m\n",
      "\u001b[0;31mNameError\u001b[0m: name 'X_train' is not defined"
     ]
    }
   ],
   "source": [
    "print(X_train.shape)\n",
    "print(X_test.shape)\n",
    "print(y_train.shape)\n",
    "print(y_test.shape)"
   ]
  },
  {
   "cell_type": "code",
   "execution_count": null,
   "metadata": {},
   "outputs": [],
   "source": [
    "training_f1=[]\n",
    "testing_f1=[]\n",
    "training_error=[]\n",
    "testing_error=[]\n",
    "\n",
    "# k_range = range(1, 100, 5)\n",
    "\n",
    "# for k in k_range:\n",
    "#     knn = KNeighborsClassifier(n_neighbors=k, n_jobs=-1)\n",
    "#     knn.fit(X_train, y_train)\n",
    "    \n",
    "#     #training\n",
    "#     y_pred = knn.predict(X)\n",
    "#     tr_f1 = f1_score(y, y_pred)\n",
    "#     tr_err = brier_score_loss(y,y_pred)\n",
    "#     training_f1.append(tr_f1)\n",
    "#     training_error.append(tr_err)\n",
    "    \n",
    "#     #testing\n",
    "#     y_pred = knn.predict(X_test)\n",
    "#     te_f1 = f1_score(y_test,y_pred)\n",
    "#     te_err = brier_score_loss(y_test, y_pred)\n",
    "#     testing_f1.append(te_f1)\n",
    "#     testing_error.append(te_err)\n",
    "\n",
    "knn = KNeighborsClassifier(n_neighbors=, n_jobs=-1)\n",
    "knn.fit(X_train, y_train)\n",
    "#training\n",
    "y_pred = knn.predict(X)\n",
    "tr_f1 = f1_score(y, y_pred)\n",
    "tr_err = brier_score_loss(y,y_pred)\n",
    "training_f1.append(tr_f1)\n",
    "training_error.append(tr_err)\n",
    "#testing\n",
    "y_pred = knn.predict(X_test)\n",
    "te_f1 = f1_score(y_test,y_pred)\n",
    "te_err = brier_score_loss(y_test, y_pred)\n",
    "testing_f1.append(te_f1)\n",
    "testing_error.append(te_err)"
   ]
  },
  {
   "cell_type": "code",
   "execution_count": null,
   "metadata": {},
   "outputs": [],
   "source": [
    "min(list(zip(testing_error, k_range)))"
   ]
  },
  {
   "cell_type": "code",
   "execution_count": null,
   "metadata": {},
   "outputs": [],
   "source": [
    "column_dict = {'K': k_range, 'training_f1':training_f1,'testing_f1':testing_f1}\n",
    "df_f1 = pd.DataFrame(column_dict).set_index('K').sort_index(ascending=False)\n",
    "df_f1.plot()"
   ]
  },
  {
   "cell_type": "code",
   "execution_count": null,
   "metadata": {},
   "outputs": [],
   "source": [
    "column_dict = {'K': k_range, 'training_error':training_error,'testing_error':testing_error}\n",
    "df_error = pd.DataFrame(column_dict).set_index('K').sort_index(ascending=False)\n",
    "df_error.plot()"
   ]
  }
 ],
 "metadata": {
  "kernelspec": {
   "display_name": "Python 3",
   "language": "python",
   "name": "python3"
  },
  "language_info": {
   "codemirror_mode": {
    "name": "ipython",
    "version": 3
   },
   "file_extension": ".py",
   "mimetype": "text/x-python",
   "name": "python",
   "nbconvert_exporter": "python",
   "pygments_lexer": "ipython3",
   "version": "3.8.5"
  }
 },
 "nbformat": 4,
 "nbformat_minor": 4
}
