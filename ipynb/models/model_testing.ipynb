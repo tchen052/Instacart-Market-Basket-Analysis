{
 "cells": [
  {
   "cell_type": "code",
   "execution_count": 22,
   "metadata": {},
   "outputs": [],
   "source": [
    "import pandas as pd\n",
    "import numpy as np\n",
    "import seaborn as sns\n",
    "from matplotlib import pyplot as plt\n",
    "%matplotlib inline\n",
    "\n",
    "plt.style.use('fivethirtyeight')\n",
    "plt.rcParams['figure.figsize'] = (10, 8)\n",
    "plt.rcParams['font.size'] = 14\n",
    "\n",
    "from sklearn import linear_model, model_selection, metrics\n",
    "from sklearn.model_selection import train_test_split\n",
    "from sklearn.metrics import roc_auc_score\n",
    "from sklearn.metrics import confusion_matrix"
   ]
  },
  {
   "cell_type": "code",
   "execution_count": 2,
   "metadata": {},
   "outputs": [],
   "source": [
    "full_df = pd.read_csv('../../data/full_df.csv')\n",
    "# train_df = pd.read_csv('../../data/train_df.csv')\n",
    "# prior_df = pd.read_csv('../../data/prior_df.csv')\n",
    "# test_df = pd.read_csv('../../data/test_df.csv')"
   ]
  },
  {
   "cell_type": "code",
   "execution_count": 3,
   "metadata": {
    "scrolled": false
   },
   "outputs": [
    {
     "data": {
      "text/html": [
       "<div>\n",
       "<style scoped>\n",
       "    .dataframe tbody tr th:only-of-type {\n",
       "        vertical-align: middle;\n",
       "    }\n",
       "\n",
       "    .dataframe tbody tr th {\n",
       "        vertical-align: top;\n",
       "    }\n",
       "\n",
       "    .dataframe thead th {\n",
       "        text-align: right;\n",
       "    }\n",
       "</style>\n",
       "<table border=\"1\" class=\"dataframe\">\n",
       "  <thead>\n",
       "    <tr style=\"text-align: right;\">\n",
       "      <th></th>\n",
       "      <th>user_id</th>\n",
       "      <th>product_id</th>\n",
       "      <th>eval_set</th>\n",
       "      <th>target</th>\n",
       "      <th>order_id</th>\n",
       "      <th>user_product_count</th>\n",
       "      <th>user_product_first_order</th>\n",
       "      <th>user_product_last_order</th>\n",
       "      <th>user_product_avg_basket_placement</th>\n",
       "      <th>product_ordered_vol</th>\n",
       "      <th>...</th>\n",
       "      <th>user_reorder_ratio</th>\n",
       "      <th>user_total_orders</th>\n",
       "      <th>user_lifetime_days</th>\n",
       "      <th>user_avg_days_between_orders</th>\n",
       "      <th>user_max_time_between_orders</th>\n",
       "      <th>user_min_time_between_orders</th>\n",
       "      <th>user_avg_cart_size</th>\n",
       "      <th>user_product_order_rate</th>\n",
       "      <th>user_product_reorder_rate</th>\n",
       "      <th>user_product_last_time_product_ordered</th>\n",
       "    </tr>\n",
       "  </thead>\n",
       "  <tbody>\n",
       "    <tr>\n",
       "      <th>0</th>\n",
       "      <td>112108</td>\n",
       "      <td>49302</td>\n",
       "      <td>train</td>\n",
       "      <td>1</td>\n",
       "      <td>1</td>\n",
       "      <td>3</td>\n",
       "      <td>1</td>\n",
       "      <td>4</td>\n",
       "      <td>2.000000</td>\n",
       "      <td>170</td>\n",
       "      <td>...</td>\n",
       "      <td>0.764706</td>\n",
       "      <td>4</td>\n",
       "      <td>167.0</td>\n",
       "      <td>9.823529</td>\n",
       "      <td>15.0</td>\n",
       "      <td>7.0</td>\n",
       "      <td>6.250000</td>\n",
       "      <td>0.750000</td>\n",
       "      <td>0.750000</td>\n",
       "      <td>0</td>\n",
       "    </tr>\n",
       "    <tr>\n",
       "      <th>1</th>\n",
       "      <td>112108</td>\n",
       "      <td>11109</td>\n",
       "      <td>train</td>\n",
       "      <td>1</td>\n",
       "      <td>1</td>\n",
       "      <td>3</td>\n",
       "      <td>1</td>\n",
       "      <td>4</td>\n",
       "      <td>3.333333</td>\n",
       "      <td>4579</td>\n",
       "      <td>...</td>\n",
       "      <td>0.764706</td>\n",
       "      <td>4</td>\n",
       "      <td>167.0</td>\n",
       "      <td>9.823529</td>\n",
       "      <td>15.0</td>\n",
       "      <td>7.0</td>\n",
       "      <td>6.250000</td>\n",
       "      <td>0.750000</td>\n",
       "      <td>0.750000</td>\n",
       "      <td>0</td>\n",
       "    </tr>\n",
       "    <tr>\n",
       "      <th>2</th>\n",
       "      <td>112108</td>\n",
       "      <td>43633</td>\n",
       "      <td>train</td>\n",
       "      <td>1</td>\n",
       "      <td>1</td>\n",
       "      <td>3</td>\n",
       "      <td>1</td>\n",
       "      <td>4</td>\n",
       "      <td>4.000000</td>\n",
       "      <td>663</td>\n",
       "      <td>...</td>\n",
       "      <td>0.764706</td>\n",
       "      <td>4</td>\n",
       "      <td>167.0</td>\n",
       "      <td>9.823529</td>\n",
       "      <td>15.0</td>\n",
       "      <td>7.0</td>\n",
       "      <td>6.250000</td>\n",
       "      <td>0.750000</td>\n",
       "      <td>0.750000</td>\n",
       "      <td>0</td>\n",
       "    </tr>\n",
       "    <tr>\n",
       "      <th>3</th>\n",
       "      <td>112108</td>\n",
       "      <td>22035</td>\n",
       "      <td>train</td>\n",
       "      <td>1</td>\n",
       "      <td>1</td>\n",
       "      <td>3</td>\n",
       "      <td>1</td>\n",
       "      <td>4</td>\n",
       "      <td>6.000000</td>\n",
       "      <td>61241</td>\n",
       "      <td>...</td>\n",
       "      <td>0.764706</td>\n",
       "      <td>4</td>\n",
       "      <td>167.0</td>\n",
       "      <td>9.823529</td>\n",
       "      <td>15.0</td>\n",
       "      <td>7.0</td>\n",
       "      <td>6.250000</td>\n",
       "      <td>0.750000</td>\n",
       "      <td>0.750000</td>\n",
       "      <td>0</td>\n",
       "    </tr>\n",
       "    <tr>\n",
       "      <th>4</th>\n",
       "      <td>79431</td>\n",
       "      <td>19660</td>\n",
       "      <td>train</td>\n",
       "      <td>1</td>\n",
       "      <td>36</td>\n",
       "      <td>16</td>\n",
       "      <td>2</td>\n",
       "      <td>23</td>\n",
       "      <td>4.562500</td>\n",
       "      <td>57921</td>\n",
       "      <td>...</td>\n",
       "      <td>0.500000</td>\n",
       "      <td>23</td>\n",
       "      <td>3238.0</td>\n",
       "      <td>17.597826</td>\n",
       "      <td>30.0</td>\n",
       "      <td>2.0</td>\n",
       "      <td>8.391304</td>\n",
       "      <td>0.695652</td>\n",
       "      <td>0.727273</td>\n",
       "      <td>0</td>\n",
       "    </tr>\n",
       "  </tbody>\n",
       "</table>\n",
       "<p>5 rows × 33 columns</p>\n",
       "</div>"
      ],
      "text/plain": [
       "   user_id  product_id eval_set  target  order_id  user_product_count  \\\n",
       "0   112108       49302    train       1         1                   3   \n",
       "1   112108       11109    train       1         1                   3   \n",
       "2   112108       43633    train       1         1                   3   \n",
       "3   112108       22035    train       1         1                   3   \n",
       "4    79431       19660    train       1        36                  16   \n",
       "\n",
       "   user_product_first_order  user_product_last_order  \\\n",
       "0                         1                        4   \n",
       "1                         1                        4   \n",
       "2                         1                        4   \n",
       "3                         1                        4   \n",
       "4                         2                       23   \n",
       "\n",
       "   user_product_avg_basket_placement  product_ordered_vol  ...  \\\n",
       "0                           2.000000                  170  ...   \n",
       "1                           3.333333                 4579  ...   \n",
       "2                           4.000000                  663  ...   \n",
       "3                           6.000000                61241  ...   \n",
       "4                           4.562500                57921  ...   \n",
       "\n",
       "   user_reorder_ratio  user_total_orders  user_lifetime_days  \\\n",
       "0            0.764706                  4               167.0   \n",
       "1            0.764706                  4               167.0   \n",
       "2            0.764706                  4               167.0   \n",
       "3            0.764706                  4               167.0   \n",
       "4            0.500000                 23              3238.0   \n",
       "\n",
       "   user_avg_days_between_orders  user_max_time_between_orders  \\\n",
       "0                      9.823529                          15.0   \n",
       "1                      9.823529                          15.0   \n",
       "2                      9.823529                          15.0   \n",
       "3                      9.823529                          15.0   \n",
       "4                     17.597826                          30.0   \n",
       "\n",
       "   user_min_time_between_orders  user_avg_cart_size  user_product_order_rate  \\\n",
       "0                           7.0            6.250000                 0.750000   \n",
       "1                           7.0            6.250000                 0.750000   \n",
       "2                           7.0            6.250000                 0.750000   \n",
       "3                           7.0            6.250000                 0.750000   \n",
       "4                           2.0            8.391304                 0.695652   \n",
       "\n",
       "   user_product_reorder_rate  user_product_last_time_product_ordered  \n",
       "0                   0.750000                                       0  \n",
       "1                   0.750000                                       0  \n",
       "2                   0.750000                                       0  \n",
       "3                   0.750000                                       0  \n",
       "4                   0.727273                                       0  \n",
       "\n",
       "[5 rows x 33 columns]"
      ]
     },
     "execution_count": 3,
     "metadata": {},
     "output_type": "execute_result"
    }
   ],
   "source": [
    "full_df.drop('Unnamed: 0',axis=1,inplace=True)\n",
    "full_df.head()"
   ]
  },
  {
   "cell_type": "code",
   "execution_count": 4,
   "metadata": {},
   "outputs": [
    {
     "data": {
      "text/plain": [
       "user_id                                   0\n",
       "product_id                                0\n",
       "eval_set                                  0\n",
       "target                                    0\n",
       "order_id                                  0\n",
       "user_product_count                        0\n",
       "user_product_first_order                  0\n",
       "user_product_last_order                   0\n",
       "user_product_avg_basket_placement         0\n",
       "product_ordered_vol                       0\n",
       "product_reordered_vol                     0\n",
       "product_ordered_once_vol                  0\n",
       "product_ordered_twice_vol                 0\n",
       "product_order_twice_ratio                 0\n",
       "product_avg_reorders                      0\n",
       "product_overall_reorder_prob              0\n",
       "user_total_products                       0\n",
       "user_total_products_reordered             0\n",
       "user_unique_product_count                 0\n",
       "user_unique_reorder_count                 0\n",
       "user_unique_product_perc                  0\n",
       "user_unique_reorder_perc                  0\n",
       "user_total_items_after_first_order        0\n",
       "user_reorder_ratio                        0\n",
       "user_total_orders                         0\n",
       "user_lifetime_days                        0\n",
       "user_avg_days_between_orders              0\n",
       "user_max_time_between_orders              0\n",
       "user_min_time_between_orders              0\n",
       "user_avg_cart_size                        0\n",
       "user_product_order_rate                   0\n",
       "user_product_reorder_rate                 0\n",
       "user_product_last_time_product_ordered    0\n",
       "dtype: int64"
      ]
     },
     "execution_count": 4,
     "metadata": {},
     "output_type": "execute_result"
    }
   ],
   "source": [
    "#filling in null values - for previous calculations where user didn't do any reorders\n",
    "full_df.product_ordered_twice_vol.fillna(0,inplace=True)\n",
    "full_df.product_order_twice_ratio.fillna(0,inplace=True)\n",
    "full_df.user_unique_reorder_count.fillna(0,inplace=True)\n",
    "full_df.user_unique_reorder_perc.fillna(0,inplace=True)\n",
    "full_df.user_total_items_after_first_order.fillna(0,inplace=True)\n",
    "full_df.user_reorder_ratio.fillna(0,inplace=True)\n",
    "full_df.isnull().sum()"
   ]
  },
  {
   "cell_type": "code",
   "execution_count": 5,
   "metadata": {},
   "outputs": [
    {
     "name": "stdout",
     "output_type": "stream",
     "text": [
      "0    7645837\n",
      "1     828824\n",
      "Name: target, dtype: int64\n",
      "0    0.9022\n",
      "1    0.0978\n",
      "Name: target, dtype: float64\n"
     ]
    }
   ],
   "source": [
    "print(full_df.target.value_counts())\n",
    "print(full_df.target.value_counts(normalize=True))\n"
   ]
  },
  {
   "cell_type": "markdown",
   "metadata": {},
   "source": [
    "## Splitting Data\n",
    "Will first split dataset into train, test, validation sets and then do a T/T/S on training set for model tuning"
   ]
  },
  {
   "cell_type": "code",
   "execution_count": 6,
   "metadata": {},
   "outputs": [
    {
     "data": {
      "text/plain": [
       "(8474661, 33)"
      ]
     },
     "execution_count": 6,
     "metadata": {},
     "output_type": "execute_result"
    }
   ],
   "source": [
    "full_df.shape"
   ]
  },
  {
   "cell_type": "code",
   "execution_count": 7,
   "metadata": {},
   "outputs": [],
   "source": [
    "np.random.seed(50)\n",
    "train, validate, test = \\\n",
    "              np.split(full_df.sample(frac=1, random_state=42), \n",
    "                       [int(.8*len(full_df)), int(.9*len(full_df))])"
   ]
  },
  {
   "cell_type": "code",
   "execution_count": 8,
   "metadata": {
    "scrolled": true
   },
   "outputs": [
    {
     "name": "stdout",
     "output_type": "stream",
     "text": [
      "(6779728, 33)\n",
      "(847466, 33)\n",
      "(847467, 33)\n"
     ]
    }
   ],
   "source": [
    "print(train.shape) #80%\n",
    "print(validate.shape) #10%\n",
    "print(test.shape) #10%"
   ]
  },
  {
   "cell_type": "code",
   "execution_count": 9,
   "metadata": {},
   "outputs": [],
   "source": [
    "X= train.drop([\"target\",'eval_set'],axis=1)\n",
    "y= train['target']"
   ]
  },
  {
   "cell_type": "code",
   "execution_count": 28,
   "metadata": {},
   "outputs": [],
   "source": [
    "X_train, X_test, y_train, y_test = train_test_split(X,y, test_size=0.2, random_state=42)"
   ]
  },
  {
   "cell_type": "code",
   "execution_count": 24,
   "metadata": {},
   "outputs": [],
   "source": [
    "# from sklearn.preprocessing import StandardScaler\n",
    "\n",
    "# scaler = StandardScaler()\n",
    "# X_train = scaler.fit_transform(X_train)\n",
    "# X_test = scaler.transform(X_test)"
   ]
  },
  {
   "cell_type": "markdown",
   "metadata": {},
   "source": [
    "## Logistic Regression "
   ]
  },
  {
   "cell_type": "code",
   "execution_count": 19,
   "metadata": {},
   "outputs": [
    {
     "data": {
      "text/plain": [
       "0.9020504511427635"
      ]
     },
     "execution_count": 19,
     "metadata": {},
     "output_type": "execute_result"
    }
   ],
   "source": [
    "1-y_train.mean()"
   ]
  },
  {
   "cell_type": "code",
   "execution_count": 12,
   "metadata": {},
   "outputs": [],
   "source": [
    "from sklearn.linear_model import LogisticRegression"
   ]
  },
  {
   "cell_type": "code",
   "execution_count": 27,
   "metadata": {},
   "outputs": [
    {
     "name": "stdout",
     "output_type": "stream",
     "text": [
      "0.9965817222809757\n"
     ]
    }
   ],
   "source": [
    "logreg = LogisticRegression(solver='lbfgs', max_iter=400)\n",
    "logreg.fit(X_train, y_train)\n",
    "\n",
    "y_pred = logreg.predict(X_test)\n",
    "# print(roc_auc_score(y_test, y_pred))\n",
    "print(logreg.score(X_test, y_test))"
   ]
  },
  {
   "cell_type": "code",
   "execution_count": 26,
   "metadata": {},
   "outputs": [
    {
     "name": "stderr",
     "output_type": "stream",
     "text": [
      "/Users/tiffany.chen/opt/anaconda3/lib/python3.8/site-packages/sklearn/linear_model/_logistic.py:762: ConvergenceWarning: lbfgs failed to converge (status=1):\n",
      "STOP: TOTAL NO. of ITERATIONS REACHED LIMIT.\n",
      "\n",
      "Increase the number of iterations (max_iter) or scale the data as shown in:\n",
      "    https://scikit-learn.org/stable/modules/preprocessing.html\n",
      "Please also refer to the documentation for alternative solver options:\n",
      "    https://scikit-learn.org/stable/modules/linear_model.html#logistic-regression\n",
      "  n_iter_i = _check_optimize_result(\n"
     ]
    },
    {
     "name": "stdout",
     "output_type": "stream",
     "text": [
      "0.9965706598935355\n"
     ]
    }
   ],
   "source": [
    "logit_simple = linear_model.LogisticRegression(C=1e9).fit(X_train, y_train)\n",
    "print(np.mean(y_test == logit_simple.predict(X_test)))\n",
    "logit_pred_proba = logit_simple.predict_proba(X_test)[:,1]\n",
    "\n",
    "cm = pd.DataFrame(metrics.confusion_matrix\n",
    "                  (y_true=y_test, y_pred=logit_pred_proba > .5), \n",
    "                  columns=['Negative Pred', 'Positive Pred'])\n"
   ]
  },
  {
   "cell_type": "code",
   "execution_count": null,
   "metadata": {},
   "outputs": [],
   "source": [
    "tn = cm.iloc[0,0]\n",
    "fn = cm.iloc[1,0]\n",
    "fp = cm.iloc[0,1]\n",
    "tp = cm.iloc[1,1]\n",
    "\n",
    "accuracy = (tp+tn) / (tp+tn+fp+fn)\n",
    "sensitivity = (tp) / (tp+fn)\n",
    "precision= tp / (tp+fp) #proportion of the data points our model says was relevant actually were relevant\n",
    "recall= tp/(tp+fn) #How many positives were predicted correctly\n",
    "ppv = tp / (tp+fp)"
   ]
  },
  {
   "cell_type": "markdown",
   "metadata": {},
   "source": [
    "## Feature Selection "
   ]
  },
  {
   "cell_type": "code",
   "execution_count": null,
   "metadata": {},
   "outputs": [],
   "source": [
    "sns.heatmap(full_df.corr(),vmin=-1, vmax=1, center=0,\n",
    "           cmap=sns.diverging_palette(20, 220, n=200))"
   ]
  },
  {
   "cell_type": "code",
   "execution_count": null,
   "metadata": {},
   "outputs": [],
   "source": [
    "from sklearn.model_selection import cross_val_score\n",
    "from sklearn.model_selection import RepeatedStratifiedKFold\n",
    "from sklearn.model_selection import cross_val_score\n",
    "from sklearn.feature_selection import RFE\n",
    "from sklearn.tree import DecisionTreeClassifier\n",
    "from sklearn.pipeline import Pipeline\n",
    "from sklearn.feature_selection import SelectKBest, chi2"
   ]
  },
  {
   "cell_type": "code",
   "execution_count": null,
   "metadata": {},
   "outputs": [],
   "source": [
    "X_model_new = SelectKBest(score_func=chi2,k=5).fit_transform(X_model,y_model)\n",
    "X_model_new\n",
    "print(X_model_new.head())\n",
    "# np.any(np.isnan(mat))\n",
    "# np.all(np.isfinite(mat))\n",
    "# X_model[X_model.isnull()]"
   ]
  }
 ],
 "metadata": {
  "kernelspec": {
   "display_name": "Python 3",
   "language": "python",
   "name": "python3"
  },
  "language_info": {
   "codemirror_mode": {
    "name": "ipython",
    "version": 3
   },
   "file_extension": ".py",
   "mimetype": "text/x-python",
   "name": "python",
   "nbconvert_exporter": "python",
   "pygments_lexer": "ipython3",
   "version": "3.8.5"
  }
 },
 "nbformat": 4,
 "nbformat_minor": 4
}
